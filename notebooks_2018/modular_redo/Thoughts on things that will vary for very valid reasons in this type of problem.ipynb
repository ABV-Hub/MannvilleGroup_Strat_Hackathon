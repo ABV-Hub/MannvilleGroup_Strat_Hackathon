{
 "cells": [
  {
   "cell_type": "markdown",
   "metadata": {},
   "source": [
    "# List of things that will likely vary with different datasets or different approaches"
   ]
  },
  {
   "cell_type": "markdown",
   "metadata": {},
   "source": [
    "### How many of these things below could be treated as variables entered at the start or different inputs cycled through different runs?"
   ]
  },
  {
   "cell_type": "markdown",
   "metadata": {},
   "source": [
    "1. Which top you're trying to predict for\n",
    "7. Whether you use information about predictions for other tops to inform the prediction for another top\n",
    "2. Whether you need wells in your training and prediction set to have a base or top already there to use neighbor thickness as a variable\n",
    "3. Which curves are used\n",
    "4. Whether all wells must have those curves\n",
    "5. Whether different curve names that represent a similar curve type can be used as the same curve\n",
    "6. Number of wells\n",
    "7. Degree of petrophysics used beforehand as preprocessing\n",
    "8. What columns are normalizes to a 0-1 scale and whether normalization is done at well level or across all wells.\n",
    "9. To what degree you include geographic regions are a feature\n",
    "10. To what degree you use well to well differences between neighbors as features\n",
    "11. \n",
    "\n"
   ]
  },
  {
   "cell_type": "code",
   "execution_count": null,
   "metadata": {},
   "outputs": [],
   "source": []
  }
 ],
 "metadata": {
  "kernelspec": {
   "display_name": "Python [conda env:MannvilleDask2]",
   "language": "python",
   "name": "conda-env-MannvilleDask2-py"
  },
  "language_info": {
   "codemirror_mode": {
    "name": "ipython",
    "version": 3
   },
   "file_extension": ".py",
   "mimetype": "text/x-python",
   "name": "python",
   "nbconvert_exporter": "python",
   "pygments_lexer": "ipython3",
   "version": "3.6.6"
  }
 },
 "nbformat": 4,
 "nbformat_minor": 2
}
