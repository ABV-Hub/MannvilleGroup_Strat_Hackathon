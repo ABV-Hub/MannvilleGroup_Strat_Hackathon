{
 "cells": [
  {
   "cell_type": "code",
   "execution_count": null,
   "metadata": {},
   "outputs": [],
   "source": []
  },
  {
   "cell_type": "code",
   "execution_count": null,
   "metadata": {},
   "outputs": [],
   "source": []
  },
  {
   "cell_type": "code",
   "execution_count": 3,
   "metadata": {},
   "outputs": [],
   "source": [
    "import pandas as pd\n",
    "import numpy as np\n",
    "import itertools\n",
    "import matplotlib.pyplot as plt\n",
    "%matplotlib inline\n",
    "import welly\n",
    "from welly import Well\n",
    "import lasio\n",
    "import glob\n",
    "import pickle\n",
    "import math\n",
    "import dask\n",
    "import dask.dataframe as dd\n",
    "from dask.distributed import Client"
   ]
  },
  {
   "cell_type": "code",
   "execution_count": 4,
   "metadata": {},
   "outputs": [
    {
     "name": "stdout",
     "output_type": "stream",
     "text": [
      "0.3.5\n",
      "0.17.5\n",
      "0.23.0\n"
     ]
    }
   ],
   "source": [
    "print(welly.__version__)\n",
    "print(dask.__version__)\n",
    "print(pd.__version__)"
   ]
  },
  {
   "cell_type": "code",
   "execution_count": 5,
   "metadata": {},
   "outputs": [
    {
     "name": "stdout",
     "output_type": "stream",
     "text": [
      "83.9 µs ± 6.53 µs per loop (mean ± std. dev. of 7 runs, 10000 loops each)\n"
     ]
    }
   ],
   "source": [
    "%%timeit\n",
    "import os\n",
    "env = %env"
   ]
  },
  {
   "cell_type": "code",
   "execution_count": 6,
   "metadata": {},
   "outputs": [],
   "source": [
    "#### Had to change display options to get this to print in full!\n",
    "#pd.set_option('display.height', 1000)\n",
    "pd.set_option('display.max_rows', 500)\n",
    "pd.set_option('display.max_columns', 500)\n",
    "pd.set_option('display.width', 1000)\n",
    "pd.options.display.max_colwidth = 100000"
   ]
  },
  {
   "cell_type": "code",
   "execution_count": 24,
   "metadata": {},
   "outputs": [],
   "source": [
    "knn_dir = \"../WellsKNN/\"\n",
    "load_dir = \"../loadLAS/\"\n",
    "features_dir = \"../createFeatures/\"\n",
    "check_dir = \"../CheckAvailableData/\"\n",
    "loadLas_dir = \"../loadLAS/\"\n"
   ]
  },
  {
   "cell_type": "code",
   "execution_count": 25,
   "metadata": {},
   "outputs": [],
   "source": [
    "####\n",
    "file_with_wells = 'dict_of__wells_df_No_features_class3_20180919a.p'"
   ]
  },
  {
   "cell_type": "markdown",
   "metadata": {},
   "source": [
    "## Import all the data"
   ]
  },
  {
   "cell_type": "code",
   "execution_count": 32,
   "metadata": {},
   "outputs": [],
   "source": [
    "##df_1.to_hdf('df_all_wells_noKNNorFeatures_20180920_a.h5', key='df', mode='w')\n",
    "df_all_Col_preSplit = pd.read_hdf(load_dir+'df_all_wells_noKNNorFeatures_20180920_a.h5', 'df')"
   ]
  },
  {
   "cell_type": "code",
   "execution_count": 33,
   "metadata": {},
   "outputs": [],
   "source": [
    "####\n",
    "#wells_available = pd.read_pickle(loadLas_dir+file_with_wells)"
   ]
  },
  {
   "cell_type": "code",
   "execution_count": 34,
   "metadata": {},
   "outputs": [],
   "source": [
    "#len(wells_available)"
   ]
  },
  {
   "cell_type": "code",
   "execution_count": 35,
   "metadata": {},
   "outputs": [],
   "source": [
    "#well_file_names = list(wells_available.keys())"
   ]
  },
  {
   "cell_type": "code",
   "execution_count": 36,
   "metadata": {},
   "outputs": [],
   "source": [
    "#type(well_file_names)"
   ]
  },
  {
   "cell_type": "code",
   "execution_count": 37,
   "metadata": {},
   "outputs": [],
   "source": [
    "#well_file_names[0:5]"
   ]
  },
  {
   "cell_type": "code",
   "execution_count": null,
   "metadata": {},
   "outputs": [],
   "source": []
  },
  {
   "cell_type": "markdown",
   "metadata": {},
   "source": [
    "## Split data into train & test on a well by well basis, not row basis"
   ]
  },
  {
   "cell_type": "code",
   "execution_count": 38,
   "metadata": {},
   "outputs": [],
   "source": [
    "UWIs = list(df_all_Col_preSplit['UWI'].unique())"
   ]
  },
  {
   "cell_type": "code",
   "execution_count": 39,
   "metadata": {},
   "outputs": [
    {
     "data": {
      "text/plain": [
       "1457"
      ]
     },
     "execution_count": 39,
     "metadata": {},
     "output_type": "execute_result"
    }
   ],
   "source": [
    "numberOfTrainingWells = math.floor(len(UWIs)*0.8)\n",
    "numberOfTrainingWells"
   ]
  },
  {
   "cell_type": "markdown",
   "metadata": {},
   "source": [
    "Randomly select that number of UWIs for training and the ones left for test"
   ]
  },
  {
   "cell_type": "code",
   "execution_count": 41,
   "metadata": {},
   "outputs": [],
   "source": [
    "UWIs_training = random.sample(UWIs, numberOfTrainingWells)"
   ]
  },
  {
   "cell_type": "code",
   "execution_count": 42,
   "metadata": {},
   "outputs": [],
   "source": [
    "UWIs_test = [x for x in UWIs if x not in UWIs_training]"
   ]
  },
  {
   "cell_type": "code",
   "execution_count": 43,
   "metadata": {},
   "outputs": [
    {
     "name": "stdout",
     "output_type": "stream",
     "text": [
      "train 1457\n",
      "test 365\n"
     ]
    }
   ],
   "source": [
    "print(\"train\",len(UWIs_training))\n",
    "print(\"test\",len(UWIs_test))"
   ]
  },
  {
   "cell_type": "code",
   "execution_count": 44,
   "metadata": {},
   "outputs": [],
   "source": [
    "df_all_Col_preSplit_wTrainTest = df_all_Col_preSplit.copy()"
   ]
  },
  {
   "cell_type": "code",
   "execution_count": 45,
   "metadata": {},
   "outputs": [],
   "source": [
    "df_all_Col_preSplit_wTrainTest['trainOrTest'] = np.where(df_all_Col_preSplit_wTrainTest['UWI'].isin(UWIs_training), 'train', 'test')"
   ]
  },
  {
   "cell_type": "code",
   "execution_count": 46,
   "metadata": {},
   "outputs": [
    {
     "data": {
      "text/html": [
       "<div>\n",
       "<style scoped>\n",
       "    .dataframe tbody tr th:only-of-type {\n",
       "        vertical-align: middle;\n",
       "    }\n",
       "\n",
       "    .dataframe tbody tr th {\n",
       "        vertical-align: top;\n",
       "    }\n",
       "\n",
       "    .dataframe thead th {\n",
       "        text-align: right;\n",
       "    }\n",
       "</style>\n",
       "<table border=\"1\" class=\"dataframe\">\n",
       "  <thead>\n",
       "    <tr style=\"text-align: right;\">\n",
       "      <th></th>\n",
       "      <th>CALI</th>\n",
       "      <th>COND</th>\n",
       "      <th>DELT</th>\n",
       "      <th>DEPT</th>\n",
       "      <th>DPHI</th>\n",
       "      <th>DT</th>\n",
       "      <th>GR</th>\n",
       "      <th>ILD</th>\n",
       "      <th>ILM</th>\n",
       "      <th>NPHI</th>\n",
       "      <th>PHID</th>\n",
       "      <th>RHOB</th>\n",
       "      <th>SFL</th>\n",
       "      <th>SFLU</th>\n",
       "      <th>SN</th>\n",
       "      <th>SP</th>\n",
       "      <th>UWI</th>\n",
       "      <th>trainOrTest</th>\n",
       "    </tr>\n",
       "  </thead>\n",
       "  <tbody>\n",
       "    <tr>\n",
       "      <th>1016</th>\n",
       "      <td>NaN</td>\n",
       "      <td>NaN</td>\n",
       "      <td>NaN</td>\n",
       "      <td>589.00</td>\n",
       "      <td>0.141</td>\n",
       "      <td>NaN</td>\n",
       "      <td>21.793</td>\n",
       "      <td>12.235</td>\n",
       "      <td>NaN</td>\n",
       "      <td>0.293</td>\n",
       "      <td>NaN</td>\n",
       "      <td>NaN</td>\n",
       "      <td>NaN</td>\n",
       "      <td>NaN</td>\n",
       "      <td>NaN</td>\n",
       "      <td>NaN</td>\n",
       "      <td>00-02-05-074-04W5-0.LAS</td>\n",
       "      <td>train</td>\n",
       "    </tr>\n",
       "    <tr>\n",
       "      <th>1017</th>\n",
       "      <td>NaN</td>\n",
       "      <td>NaN</td>\n",
       "      <td>NaN</td>\n",
       "      <td>589.25</td>\n",
       "      <td>0.134</td>\n",
       "      <td>NaN</td>\n",
       "      <td>22.354</td>\n",
       "      <td>12.235</td>\n",
       "      <td>NaN</td>\n",
       "      <td>0.276</td>\n",
       "      <td>NaN</td>\n",
       "      <td>NaN</td>\n",
       "      <td>NaN</td>\n",
       "      <td>NaN</td>\n",
       "      <td>NaN</td>\n",
       "      <td>NaN</td>\n",
       "      <td>00-02-05-074-04W5-0.LAS</td>\n",
       "      <td>train</td>\n",
       "    </tr>\n",
       "    <tr>\n",
       "      <th>1018</th>\n",
       "      <td>NaN</td>\n",
       "      <td>NaN</td>\n",
       "      <td>NaN</td>\n",
       "      <td>589.50</td>\n",
       "      <td>0.131</td>\n",
       "      <td>NaN</td>\n",
       "      <td>22.343</td>\n",
       "      <td>12.236</td>\n",
       "      <td>NaN</td>\n",
       "      <td>0.259</td>\n",
       "      <td>NaN</td>\n",
       "      <td>NaN</td>\n",
       "      <td>NaN</td>\n",
       "      <td>NaN</td>\n",
       "      <td>NaN</td>\n",
       "      <td>NaN</td>\n",
       "      <td>00-02-05-074-04W5-0.LAS</td>\n",
       "      <td>train</td>\n",
       "    </tr>\n",
       "    <tr>\n",
       "      <th>1019</th>\n",
       "      <td>NaN</td>\n",
       "      <td>NaN</td>\n",
       "      <td>NaN</td>\n",
       "      <td>589.75</td>\n",
       "      <td>0.126</td>\n",
       "      <td>NaN</td>\n",
       "      <td>22.327</td>\n",
       "      <td>12.462</td>\n",
       "      <td>NaN</td>\n",
       "      <td>0.252</td>\n",
       "      <td>NaN</td>\n",
       "      <td>NaN</td>\n",
       "      <td>NaN</td>\n",
       "      <td>NaN</td>\n",
       "      <td>NaN</td>\n",
       "      <td>NaN</td>\n",
       "      <td>00-02-05-074-04W5-0.LAS</td>\n",
       "      <td>train</td>\n",
       "    </tr>\n",
       "    <tr>\n",
       "      <th>1020</th>\n",
       "      <td>NaN</td>\n",
       "      <td>NaN</td>\n",
       "      <td>NaN</td>\n",
       "      <td>590.00</td>\n",
       "      <td>0.123</td>\n",
       "      <td>NaN</td>\n",
       "      <td>22.311</td>\n",
       "      <td>12.692</td>\n",
       "      <td>NaN</td>\n",
       "      <td>0.245</td>\n",
       "      <td>NaN</td>\n",
       "      <td>NaN</td>\n",
       "      <td>NaN</td>\n",
       "      <td>NaN</td>\n",
       "      <td>NaN</td>\n",
       "      <td>NaN</td>\n",
       "      <td>00-02-05-074-04W5-0.LAS</td>\n",
       "      <td>train</td>\n",
       "    </tr>\n",
       "  </tbody>\n",
       "</table>\n",
       "</div>"
      ],
      "text/plain": [
       "      CALI  COND  DELT    DEPT   DPHI  DT      GR     ILD  ILM   NPHI  PHID  RHOB  SFL  SFLU  SN  SP                      UWI trainOrTest\n",
       "1016   NaN   NaN   NaN  589.00  0.141 NaN  21.793  12.235  NaN  0.293   NaN   NaN  NaN   NaN NaN NaN  00-02-05-074-04W5-0.LAS       train\n",
       "1017   NaN   NaN   NaN  589.25  0.134 NaN  22.354  12.235  NaN  0.276   NaN   NaN  NaN   NaN NaN NaN  00-02-05-074-04W5-0.LAS       train\n",
       "1018   NaN   NaN   NaN  589.50  0.131 NaN  22.343  12.236  NaN  0.259   NaN   NaN  NaN   NaN NaN NaN  00-02-05-074-04W5-0.LAS       train\n",
       "1019   NaN   NaN   NaN  589.75  0.126 NaN  22.327  12.462  NaN  0.252   NaN   NaN  NaN   NaN NaN NaN  00-02-05-074-04W5-0.LAS       train\n",
       "1020   NaN   NaN   NaN  590.00  0.123 NaN  22.311  12.692  NaN  0.245   NaN   NaN  NaN   NaN NaN NaN  00-02-05-074-04W5-0.LAS       train"
      ]
     },
     "execution_count": 46,
     "metadata": {},
     "output_type": "execute_result"
    }
   ],
   "source": [
    "df_all_Col_preSplit_wTrainTest.tail()"
   ]
  },
  {
   "cell_type": "markdown",
   "metadata": {},
   "source": [
    "## Save to file"
   ]
  },
  {
   "cell_type": "code",
   "execution_count": 47,
   "metadata": {},
   "outputs": [],
   "source": [
    "df_all_Col_preSplit_wTrainTest.to_hdf('df_all_wells_noKNNorFeatures_wTrainSplit_20180920_a.h5', key='df', mode='w')"
   ]
  },
  {
   "cell_type": "code",
   "execution_count": null,
   "metadata": {},
   "outputs": [],
   "source": []
  },
  {
   "cell_type": "code",
   "execution_count": null,
   "metadata": {},
   "outputs": [],
   "source": []
  }
 ],
 "metadata": {
  "kernelspec": {
   "display_name": "Python 3",
   "language": "python",
   "name": "python3"
  },
  "language_info": {
   "codemirror_mode": {
    "name": "ipython",
    "version": 3
   },
   "file_extension": ".py",
   "mimetype": "text/x-python",
   "name": "python",
   "nbconvert_exporter": "python",
   "pygments_lexer": "ipython3",
   "version": "3.6.6"
  }
 },
 "nbformat": 4,
 "nbformat_minor": 2
}
