{
 "cells": [
  {
   "cell_type": "markdown",
   "metadata": {},
   "source": [
    "# A notebook for Checking Available Data\n",
    "## Identify wells, tops, & curves that can be used in model"
   ]
  },
  {
   "cell_type": "markdown",
   "metadata": {},
   "source": [
    "------------------------"
   ]
  },
  {
   "cell_type": "markdown",
   "metadata": {},
   "source": [
    "## Goals for this notebook\n",
    "- 1.A. Code to identify what tops are common enough to be included\n",
    "- 1.B. Code to identify what curves are common enough to be included\n",
    "- 1.C. Create list of wells that include necessary tops and curves based on two steps listed above\n",
    "- 1.D Document what wells were not included in training and why!\n",
    "- 1.E. Write to a file a initial dataset of wells to include and tops to include.\n",
    "- 2.A. Split dataset in step above into 80/20 train/test subsets and label as such with a new column based on wells not rows\n",
    "- 2.B There are many more \"not near a pick\" rows that at or near a pick rows. We'll need to create a column for what rows in the \"away from pick\" category to exclude in order to have balanced classes."
   ]
  },
  {
   "cell_type": "markdown",
   "metadata": {},
   "source": [
    "## THINGS YOU MIGHT NEED TO CHANGE IN THIS NOTEBOOK!\n",
    "1. Links to the various files!\n",
    "2. Decide what the minimum number of tops that need to be present before you can work with that top!\n",
    "3. Decide what the minimum number of wells that have a curve name need to be before that curve is included as a required curve to include a well in the dataset you'll work with."
   ]
  },
  {
   "cell_type": "markdown",
   "metadata": {},
   "source": [
    "# Import necessary libraries"
   ]
  },
  {
   "cell_type": "code",
   "execution_count": 1,
   "metadata": {},
   "outputs": [
    {
     "name": "stderr",
     "output_type": "stream",
     "text": [
      "/Users/justingosses/anaconda/envs/MannvilleDask2/lib/python3.6/importlib/_bootstrap.py:219: RuntimeWarning: numpy.dtype size changed, may indicate binary incompatibility. Expected 96, got 88\n",
      "  return f(*args, **kwds)\n",
      "/Users/justingosses/anaconda/envs/MannvilleDask2/lib/python3.6/importlib/_bootstrap.py:219: RuntimeWarning: numpy.dtype size changed, may indicate binary incompatibility. Expected 96, got 88\n",
      "  return f(*args, **kwds)\n"
     ]
    },
    {
     "data": {
      "text/plain": [
       "'0.3.5'"
      ]
     },
     "execution_count": 1,
     "metadata": {},
     "output_type": "execute_result"
    }
   ],
   "source": [
    "import pandas as pd\n",
    "import numpy as np\n",
    "import itertools\n",
    "import matplotlib.pyplot as plt\n",
    "%matplotlib inline\n",
    "import welly\n",
    "from welly import Well\n",
    "import lasio\n",
    "import glob\n",
    "from sklearn import neighbors\n",
    "import pickle\n",
    "import math\n",
    "import dask\n",
    "import dask.dataframe as dd\n",
    "from dask.distributed import Client\n",
    "from dask import delayed\n",
    "from dask import compute\n",
    "# import pdvega\n",
    "# import vega\n",
    "import dask.dataframe as dd\n",
    "from dask.distributed import Client\n"
   ]
  },
  {
   "cell_type": "code",
   "execution_count": 2,
   "metadata": {},
   "outputs": [
    {
     "name": "stdout",
     "output_type": "stream",
     "text": [
      "0.3.5\n",
      "0.18.2\n",
      "0.23.3\n"
     ]
    }
   ],
   "source": [
    "print(welly.__version__)\n",
    "print(dask.__version__)\n",
    "print(pd.__version__)"
   ]
  },
  {
   "cell_type": "code",
   "execution_count": 3,
   "metadata": {},
   "outputs": [
    {
     "name": "stdout",
     "output_type": "stream",
     "text": [
      "85.3 µs ± 1.44 µs per loop (mean ± std. dev. of 7 runs, 10000 loops each)\n"
     ]
    }
   ],
   "source": [
    "%%timeit\n",
    "import os\n",
    "env = %env"
   ]
  },
  {
   "cell_type": "code",
   "execution_count": 4,
   "metadata": {},
   "outputs": [],
   "source": [
    "from IPython.display import display\n",
    "#### Had to change display options to get this to print in full!\n",
    "# pd.set_option('display.height', 1000)\n",
    "pd.set_option('display.max_rows', 500)\n",
    "pd.set_option('display.max_columns', 500)\n",
    "pd.set_option('display.width', 1000)\n",
    "pd.options.display.max_colwidth = 100000"
   ]
  },
  {
   "cell_type": "markdown",
   "metadata": {},
   "source": [
    "## Import Initial Data"
   ]
  },
  {
   "cell_type": "markdown",
   "metadata": {},
   "source": [
    "#### YOU'LL WANT TO CHANGE THESE LINKS IF YOU USE DIFFERENT DATA OR CHANGE LOCATION OF NOTEBOOK OR DATA"
   ]
  },
  {
   "cell_type": "code",
   "execution_count": 6,
   "metadata": {},
   "outputs": [],
   "source": [
    "picks_dic = pd.read_csv('../../../SPE_006_originalData/OilSandsDB/PICKS_DIC.TXT',delimiter='\\t')\n",
    "picks = pd.read_csv('../../../SPE_006_originalData/OilSandsDB/PICKS.TXT',delimiter='\\t')\n",
    "wells = pd.read_csv('../../../SPE_006_originalData/OilSandsDB/WELLS.TXT',delimiter='\\t')\n",
    "gis = pd.read_csv('../../../well_lat_lng.csv')"
   ]
  },
  {
   "cell_type": "code",
   "execution_count": 7,
   "metadata": {},
   "outputs": [
    {
     "data": {
      "text/html": [
       "<div>\n",
       "<style scoped>\n",
       "    .dataframe tbody tr th:only-of-type {\n",
       "        vertical-align: middle;\n",
       "    }\n",
       "\n",
       "    .dataframe tbody tr th {\n",
       "        vertical-align: top;\n",
       "    }\n",
       "\n",
       "    .dataframe thead th {\n",
       "        text-align: right;\n",
       "    }\n",
       "</style>\n",
       "<table border=\"1\" class=\"dataframe\">\n",
       "  <thead>\n",
       "    <tr style=\"text-align: right;\">\n",
       "      <th></th>\n",
       "      <th>SitID</th>\n",
       "      <th>HorID</th>\n",
       "      <th>Pick</th>\n",
       "      <th>Quality</th>\n",
       "    </tr>\n",
       "  </thead>\n",
       "  <tbody>\n",
       "    <tr>\n",
       "      <th>0</th>\n",
       "      <td>102496</td>\n",
       "      <td>1000</td>\n",
       "      <td>321</td>\n",
       "      <td>1</td>\n",
       "    </tr>\n",
       "    <tr>\n",
       "      <th>1</th>\n",
       "      <td>102496</td>\n",
       "      <td>2000</td>\n",
       "      <td></td>\n",
       "      <td>-1</td>\n",
       "    </tr>\n",
       "    <tr>\n",
       "      <th>2</th>\n",
       "      <td>102496</td>\n",
       "      <td>3000</td>\n",
       "      <td></td>\n",
       "      <td>-1</td>\n",
       "    </tr>\n",
       "    <tr>\n",
       "      <th>3</th>\n",
       "      <td>102496</td>\n",
       "      <td>4000</td>\n",
       "      <td></td>\n",
       "      <td>-1</td>\n",
       "    </tr>\n",
       "    <tr>\n",
       "      <th>4</th>\n",
       "      <td>102496</td>\n",
       "      <td>5000</td>\n",
       "      <td>438</td>\n",
       "      <td>2</td>\n",
       "    </tr>\n",
       "  </tbody>\n",
       "</table>\n",
       "</div>"
      ],
      "text/plain": [
       "    SitID  HorID      Pick  Quality\n",
       "0  102496   1000       321        1\n",
       "1  102496   2000                 -1\n",
       "2  102496   3000                 -1\n",
       "3  102496   4000                 -1\n",
       "4  102496   5000       438        2"
      ]
     },
     "execution_count": 7,
     "metadata": {},
     "output_type": "execute_result"
    }
   ],
   "source": [
    "picks.head()"
   ]
  },
  {
   "cell_type": "code",
   "execution_count": 9,
   "metadata": {},
   "outputs": [
    {
     "data": {
      "text/html": [
       "<div>\n",
       "<style scoped>\n",
       "    .dataframe tbody tr th:only-of-type {\n",
       "        vertical-align: middle;\n",
       "    }\n",
       "\n",
       "    .dataframe tbody tr th {\n",
       "        vertical-align: top;\n",
       "    }\n",
       "\n",
       "    .dataframe thead th {\n",
       "        text-align: right;\n",
       "    }\n",
       "</style>\n",
       "<table border=\"1\" class=\"dataframe\">\n",
       "  <thead>\n",
       "    <tr style=\"text-align: right;\">\n",
       "      <th></th>\n",
       "      <th>HorID</th>\n",
       "      <th>Descriptopn</th>\n",
       "    </tr>\n",
       "  </thead>\n",
       "  <tbody>\n",
       "    <tr>\n",
       "      <th>0</th>\n",
       "      <td>1000</td>\n",
       "      <td>mannville</td>\n",
       "    </tr>\n",
       "    <tr>\n",
       "      <th>1</th>\n",
       "      <td>2000</td>\n",
       "      <td>t61</td>\n",
       "    </tr>\n",
       "    <tr>\n",
       "      <th>2</th>\n",
       "      <td>3000</td>\n",
       "      <td>t51</td>\n",
       "    </tr>\n",
       "    <tr>\n",
       "      <th>3</th>\n",
       "      <td>4000</td>\n",
       "      <td>t41</td>\n",
       "    </tr>\n",
       "    <tr>\n",
       "      <th>4</th>\n",
       "      <td>5000</td>\n",
       "      <td>t31</td>\n",
       "    </tr>\n",
       "    <tr>\n",
       "      <th>5</th>\n",
       "      <td>6000</td>\n",
       "      <td>clw_wab</td>\n",
       "    </tr>\n",
       "    <tr>\n",
       "      <th>6</th>\n",
       "      <td>7000</td>\n",
       "      <td>t21</td>\n",
       "    </tr>\n",
       "    <tr>\n",
       "      <th>7</th>\n",
       "      <td>8000</td>\n",
       "      <td>e20</td>\n",
       "    </tr>\n",
       "    <tr>\n",
       "      <th>8</th>\n",
       "      <td>9000</td>\n",
       "      <td>t15</td>\n",
       "    </tr>\n",
       "    <tr>\n",
       "      <th>9</th>\n",
       "      <td>9500</td>\n",
       "      <td>e14</td>\n",
       "    </tr>\n",
       "    <tr>\n",
       "      <th>10</th>\n",
       "      <td>10000</td>\n",
       "      <td>t11</td>\n",
       "    </tr>\n",
       "    <tr>\n",
       "      <th>11</th>\n",
       "      <td>11000</td>\n",
       "      <td>t10.5</td>\n",
       "    </tr>\n",
       "    <tr>\n",
       "      <th>12</th>\n",
       "      <td>12000</td>\n",
       "      <td>e10</td>\n",
       "    </tr>\n",
       "    <tr>\n",
       "      <th>13</th>\n",
       "      <td>13000</td>\n",
       "      <td>mcmurray</td>\n",
       "    </tr>\n",
       "    <tr>\n",
       "      <th>14</th>\n",
       "      <td>14000</td>\n",
       "      <td>paleozoic</td>\n",
       "    </tr>\n",
       "  </tbody>\n",
       "</table>\n",
       "</div>"
      ],
      "text/plain": [
       "    HorID Descriptopn\n",
       "0    1000   mannville\n",
       "1    2000         t61\n",
       "2    3000         t51\n",
       "3    4000         t41\n",
       "4    5000         t31\n",
       "5    6000     clw_wab\n",
       "6    7000         t21\n",
       "7    8000         e20\n",
       "8    9000         t15\n",
       "9    9500         e14\n",
       "10  10000         t11\n",
       "11  11000       t10.5\n",
       "12  12000         e10\n",
       "13  13000    mcmurray\n",
       "14  14000   paleozoic"
      ]
     },
     "execution_count": 9,
     "metadata": {},
     "output_type": "execute_result"
    }
   ],
   "source": [
    "picks_dic"
   ]
  },
  {
   "cell_type": "code",
   "execution_count": 10,
   "metadata": {},
   "outputs": [
    {
     "data": {
      "text/html": [
       "<div>\n",
       "<style scoped>\n",
       "    .dataframe tbody tr th:only-of-type {\n",
       "        vertical-align: middle;\n",
       "    }\n",
       "\n",
       "    .dataframe tbody tr th {\n",
       "        vertical-align: top;\n",
       "    }\n",
       "\n",
       "    .dataframe thead th {\n",
       "        text-align: right;\n",
       "    }\n",
       "</style>\n",
       "<table border=\"1\" class=\"dataframe\">\n",
       "  <thead>\n",
       "    <tr style=\"text-align: right;\">\n",
       "      <th></th>\n",
       "      <th>SitID</th>\n",
       "      <th>UWI (AGS)</th>\n",
       "      <th>UWI</th>\n",
       "    </tr>\n",
       "  </thead>\n",
       "  <tbody>\n",
       "    <tr>\n",
       "      <th>0</th>\n",
       "      <td>102496</td>\n",
       "      <td>0674010812000</td>\n",
       "      <td>00/12-08-067-01W4/0</td>\n",
       "    </tr>\n",
       "    <tr>\n",
       "      <th>1</th>\n",
       "      <td>102497</td>\n",
       "      <td>0674020807000</td>\n",
       "      <td>00/07-08-067-02W4/0</td>\n",
       "    </tr>\n",
       "    <tr>\n",
       "      <th>2</th>\n",
       "      <td>102498</td>\n",
       "      <td>0674021109000</td>\n",
       "      <td>00/09-11-067-02W4/0</td>\n",
       "    </tr>\n",
       "    <tr>\n",
       "      <th>3</th>\n",
       "      <td>102500</td>\n",
       "      <td>0674022910000</td>\n",
       "      <td>00/10-29-067-02W4/0</td>\n",
       "    </tr>\n",
       "    <tr>\n",
       "      <th>4</th>\n",
       "      <td>102501</td>\n",
       "      <td>0674023406000</td>\n",
       "      <td>00/06-34-067-02W4/0</td>\n",
       "    </tr>\n",
       "  </tbody>\n",
       "</table>\n",
       "</div>"
      ],
      "text/plain": [
       "    SitID      UWI (AGS)                  UWI\n",
       "0  102496  0674010812000  00/12-08-067-01W4/0\n",
       "1  102497  0674020807000  00/07-08-067-02W4/0\n",
       "2  102498  0674021109000  00/09-11-067-02W4/0\n",
       "3  102500  0674022910000  00/10-29-067-02W4/0\n",
       "4  102501  0674023406000  00/06-34-067-02W4/0"
      ]
     },
     "execution_count": 10,
     "metadata": {},
     "output_type": "execute_result"
    }
   ],
   "source": [
    "wells.head()"
   ]
  },
  {
   "cell_type": "code",
   "execution_count": 11,
   "metadata": {},
   "outputs": [
    {
     "data": {
      "text/html": [
       "<div>\n",
       "<style scoped>\n",
       "    .dataframe tbody tr th:only-of-type {\n",
       "        vertical-align: middle;\n",
       "    }\n",
       "\n",
       "    .dataframe tbody tr th {\n",
       "        vertical-align: top;\n",
       "    }\n",
       "\n",
       "    .dataframe thead th {\n",
       "        text-align: right;\n",
       "    }\n",
       "</style>\n",
       "<table border=\"1\" class=\"dataframe\">\n",
       "  <thead>\n",
       "    <tr style=\"text-align: right;\">\n",
       "      <th></th>\n",
       "      <th>SitID</th>\n",
       "      <th>UWI (AGS)</th>\n",
       "      <th>UWI</th>\n",
       "      <th>HorID</th>\n",
       "      <th>Pick</th>\n",
       "      <th>Quality</th>\n",
       "      <th>lat</th>\n",
       "      <th>lng</th>\n",
       "    </tr>\n",
       "  </thead>\n",
       "  <tbody>\n",
       "    <tr>\n",
       "      <th>0</th>\n",
       "      <td>102496</td>\n",
       "      <td>0674010812000</td>\n",
       "      <td>00/12-08-067-01W4/0</td>\n",
       "      <td>13000</td>\n",
       "      <td>475</td>\n",
       "      <td>3</td>\n",
       "      <td>54.785907</td>\n",
       "      <td>-110.129320</td>\n",
       "    </tr>\n",
       "    <tr>\n",
       "      <th>1</th>\n",
       "      <td>102497</td>\n",
       "      <td>0674020807000</td>\n",
       "      <td>00/07-08-067-02W4/0</td>\n",
       "      <td>13000</td>\n",
       "      <td>515</td>\n",
       "      <td>3</td>\n",
       "      <td>54.782284</td>\n",
       "      <td>-110.269446</td>\n",
       "    </tr>\n",
       "    <tr>\n",
       "      <th>2</th>\n",
       "      <td>102498</td>\n",
       "      <td>0674021109000</td>\n",
       "      <td>00/09-11-067-02W4/0</td>\n",
       "      <td>13000</td>\n",
       "      <td>480</td>\n",
       "      <td>3</td>\n",
       "      <td>54.785892</td>\n",
       "      <td>-110.186851</td>\n",
       "    </tr>\n",
       "    <tr>\n",
       "      <th>3</th>\n",
       "      <td>102500</td>\n",
       "      <td>0674022910000</td>\n",
       "      <td>00/10-29-067-02W4/0</td>\n",
       "      <td>13000</td>\n",
       "      <td>549</td>\n",
       "      <td>3</td>\n",
       "      <td>54.829624</td>\n",
       "      <td>-110.269422</td>\n",
       "    </tr>\n",
       "    <tr>\n",
       "      <th>4</th>\n",
       "      <td>102501</td>\n",
       "      <td>0674023406000</td>\n",
       "      <td>00/06-34-067-02W4/0</td>\n",
       "      <td>13000</td>\n",
       "      <td>529</td>\n",
       "      <td>2</td>\n",
       "      <td>54.840471</td>\n",
       "      <td>-110.224832</td>\n",
       "    </tr>\n",
       "  </tbody>\n",
       "</table>\n",
       "</div>"
      ],
      "text/plain": [
       "    SitID      UWI (AGS)                  UWI  HorID Pick  Quality        lat         lng\n",
       "0  102496  0674010812000  00/12-08-067-01W4/0  13000  475        3  54.785907 -110.129320\n",
       "1  102497  0674020807000  00/07-08-067-02W4/0  13000  515        3  54.782284 -110.269446\n",
       "2  102498  0674021109000  00/09-11-067-02W4/0  13000  480        3  54.785892 -110.186851\n",
       "3  102500  0674022910000  00/10-29-067-02W4/0  13000  549        3  54.829624 -110.269422\n",
       "4  102501  0674023406000  00/06-34-067-02W4/0  13000  529        2  54.840471 -110.224832"
      ]
     },
     "execution_count": 11,
     "metadata": {},
     "output_type": "execute_result"
    }
   ],
   "source": [
    "gis.head()"
   ]
  },
  {
   "cell_type": "markdown",
   "metadata": {},
   "source": [
    "## Question 1: How many wells are included for each top? "
   ]
  },
  {
   "cell_type": "code",
   "execution_count": 12,
   "metadata": {},
   "outputs": [],
   "source": [
    "listOfTops = picks_dic.HorID.unique()"
   ]
  },
  {
   "cell_type": "code",
   "execution_count": 13,
   "metadata": {},
   "outputs": [
    {
     "data": {
      "text/plain": [
       "array([ 1000,  2000,  3000,  4000,  5000,  6000,  7000,  8000,  9000,\n",
       "        9500, 10000, 11000, 12000, 13000, 14000])"
      ]
     },
     "execution_count": 13,
     "metadata": {},
     "output_type": "execute_result"
    }
   ],
   "source": [
    "listOfTops"
   ]
  },
  {
   "cell_type": "markdown",
   "metadata": {},
   "source": [
    "### We'll use the fact that absent picks are categorized as -1 in terms of quality to exclude those and then count the rest that remain. You input files might require a different methodology!"
   ]
  },
  {
   "cell_type": "code",
   "execution_count": 39,
   "metadata": {},
   "outputs": [],
   "source": [
    "noNullPicks = picks[picks.Quality != -1]\n",
    "pick_counts = noNullPicks.groupby('HorID').SitID.count()"
   ]
  },
  {
   "cell_type": "code",
   "execution_count": 41,
   "metadata": {},
   "outputs": [
    {
     "data": {
      "text/plain": [
       "HorID\n",
       "1000     1903\n",
       "2000      517\n",
       "3000      531\n",
       "4000      597\n",
       "5000     2188\n",
       "6000      461\n",
       "7000     2191\n",
       "9000     2184\n",
       "9500     2184\n",
       "10000    2187\n",
       "11000    2184\n",
       "12000    2182\n",
       "13000    2184\n",
       "14000    2169\n",
       "Name: SitID, dtype: int64"
      ]
     },
     "execution_count": 41,
     "metadata": {},
     "output_type": "execute_result"
    }
   ],
   "source": [
    "pick_counts"
   ]
  },
  {
   "cell_type": "code",
   "execution_count": 38,
   "metadata": {},
   "outputs": [
    {
     "name": "stdout",
     "output_type": "stream",
     "text": [
      "number of wells with picks of some sort is:  2193\n"
     ]
    }
   ],
   "source": [
    "#### The total number of wells with any sort of pick is:\n",
    "wells_with_picks_array = picks.SitID.unique()\n",
    "print(\"number of wells with picks of some sort is: \",len(wells_with_picks_array))"
   ]
  },
  {
   "cell_type": "markdown",
   "metadata": {},
   "source": [
    "### A human decision is required to determine the minimum umber of tops needed to do anything with that top. For our purposes, we'll limit to those with at least 1900"
   ]
  },
  {
   "cell_type": "markdown",
   "metadata": {},
   "source": [
    "### We're most interested in wells that have both the Top and Base McMurry picks, so let's see how many wells have both and get that list of wells."
   ]
  },
  {
   "cell_type": "code",
   "execution_count": 81,
   "metadata": {},
   "outputs": [],
   "source": [
    "topsMustHave = [13000,14000]"
   ]
  },
  {
   "cell_type": "markdown",
   "metadata": {},
   "source": [
    "#### Idea for this task:\n",
    "- Make a list of wells for each top in the topsMustHave list\n",
    "- Find the wells that exist in all of the lists"
   ]
  },
  {
   "cell_type": "code",
   "execution_count": 94,
   "metadata": {},
   "outputs": [],
   "source": [
    "def findWellsThatHaveCertainTop(top):\n",
    "    #### Takes in top\n",
    "    #### Returns a list of wells with the given top\n",
    "    #print(top)\n",
    "    rows_with_picks = picks[picks.Quality != -1]\n",
    "    #print(rows_with_picks[0:4])\n",
    "    rows_with_that_top = list(rows_with_picks.loc[rows_with_picks['HorID'] == top].SitID.unique())\n",
    "    #print(\"before return\",rows_with_that_top)\n",
    "    return rows_with_that_top"
   ]
  },
  {
   "cell_type": "code",
   "execution_count": 95,
   "metadata": {},
   "outputs": [],
   "source": [
    "def findWellsWithAllTopsGive(tops):\n",
    "    #### Takes in a list of tops\n",
    "    #### Returns a list of wells that include all of those tops. If only one top occurs, well is not included\n",
    "    list_of_wells_with_tops = []\n",
    "    for top in tops:\n",
    "        list_of_wells_with_tops.append(findWellsThatHaveCertainTop(top))\n",
    "    result = set(list_of_wells_with_tops[0])\n",
    "    for s in list_of_wells_with_tops[1:]:\n",
    "        result.intersection_update(s)\n",
    "    return list(result)"
   ]
  },
  {
   "cell_type": "code",
   "execution_count": 96,
   "metadata": {},
   "outputs": [],
   "source": [
    "wells_with_all_given_tops = findWellsWithAllTopsGive(topsMustHave)"
   ]
  },
  {
   "cell_type": "code",
   "execution_count": 99,
   "metadata": {},
   "outputs": [
    {
     "data": {
      "text/plain": [
       "2164"
      ]
     },
     "execution_count": 99,
     "metadata": {},
     "output_type": "execute_result"
    }
   ],
   "source": [
    "len(wells_with_all_given_tops)"
   ]
  },
  {
   "cell_type": "markdown",
   "metadata": {},
   "source": [
    "# Import the logs and see how common each curve name is"
   ]
  },
  {
   "cell_type": "code",
   "execution_count": null,
   "metadata": {},
   "outputs": [],
   "source": []
  },
  {
   "cell_type": "code",
   "execution_count": null,
   "metadata": {},
   "outputs": [],
   "source": []
  },
  {
   "cell_type": "code",
   "execution_count": null,
   "metadata": {},
   "outputs": [],
   "source": []
  },
  {
   "cell_type": "code",
   "execution_count": null,
   "metadata": {},
   "outputs": [],
   "source": []
  },
  {
   "cell_type": "code",
   "execution_count": null,
   "metadata": {},
   "outputs": [],
   "source": []
  },
  {
   "cell_type": "code",
   "execution_count": null,
   "metadata": {},
   "outputs": [],
   "source": []
  },
  {
   "cell_type": "markdown",
   "metadata": {},
   "source": [
    "# Make list of wells that includes both the minimum required curves & minimum required tops"
   ]
  },
  {
   "cell_type": "code",
   "execution_count": null,
   "metadata": {},
   "outputs": [],
   "source": []
  },
  {
   "cell_type": "code",
   "execution_count": null,
   "metadata": {},
   "outputs": [],
   "source": []
  },
  {
   "cell_type": "code",
   "execution_count": null,
   "metadata": {},
   "outputs": [],
   "source": []
  },
  {
   "cell_type": "code",
   "execution_count": null,
   "metadata": {},
   "outputs": [],
   "source": []
  },
  {
   "cell_type": "code",
   "execution_count": null,
   "metadata": {},
   "outputs": [],
   "source": []
  }
 ],
 "metadata": {
  "kernelspec": {
   "display_name": "Python [conda env:MannvilleDask2]",
   "language": "python",
   "name": "conda-env-MannvilleDask2-py"
  },
  "language_info": {
   "codemirror_mode": {
    "name": "ipython",
    "version": 3
   },
   "file_extension": ".py",
   "mimetype": "text/x-python",
   "name": "python",
   "nbconvert_exporter": "python",
   "pygments_lexer": "ipython3",
   "version": "3.6.6"
  }
 },
 "nbformat": 4,
 "nbformat_minor": 2
}
